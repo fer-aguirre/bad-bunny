{
 "cells": [
  {
   "cell_type": "code",
   "execution_count": 20,
   "metadata": {},
   "outputs": [],
   "source": [
    "from lyricsgenius import Genius\n",
    "import configparser"
   ]
  },
  {
   "cell_type": "code",
   "execution_count": 18,
   "metadata": {},
   "outputs": [],
   "source": [
    "# Get Genius API tokens\n",
    "parser = configparser.ConfigParser()\n",
    "parser.read(\"../config.ini\")\n",
    "parser.sections()\n",
    "token = parser.get('genius_api', 'token')"
   ]
  },
  {
   "cell_type": "code",
   "execution_count": 28,
   "metadata": {},
   "outputs": [
    {
     "name": "stdout",
     "output_type": "stream",
     "text": [
      "Searching for songs by Bad Bunny...\n",
      "\n",
      "Song 1: \"120\"\n",
      "Song 2: \"200 MPH\"\n",
      "Song 3: \"200 Mph (Live)\"\n",
      "Song 4: \"25/8\"\n",
      "Song 5: \"25/8 (Versión Extendida)\"\n",
      "Song 6: \"﹤3\"\n",
      "Song 7: \"6 Rings\"\n",
      "Song 8: \"Agosto\"\n",
      "Song 9: \"Aguacero\"\n",
      "Song 10: \"Alta Moda*\"\n"
     ]
    },
    {
     "ename": "KeyboardInterrupt",
     "evalue": "",
     "output_type": "error",
     "traceback": [
      "\u001b[0;31m---------------------------------------------------------------------------\u001b[0m",
      "\u001b[0;31mKeyboardInterrupt\u001b[0m                         Traceback (most recent call last)",
      "Cell \u001b[0;32mIn [28], line 3\u001b[0m\n\u001b[1;32m      1\u001b[0m genius \u001b[39m=\u001b[39m Genius(token)\n\u001b[1;32m      2\u001b[0m genius\u001b[39m.\u001b[39mresponse_format \u001b[39m=\u001b[39m \u001b[39m'\u001b[39m\u001b[39mplain,html\u001b[39m\u001b[39m'\u001b[39m\n\u001b[0;32m----> 3\u001b[0m artist \u001b[39m=\u001b[39m genius\u001b[39m.\u001b[39;49msearch_artist(\u001b[39m'\u001b[39;49m\u001b[39mBad Bunny\u001b[39;49m\u001b[39m'\u001b[39;49m, sort\u001b[39m=\u001b[39;49m\u001b[39m'\u001b[39;49m\u001b[39mtitle\u001b[39;49m\u001b[39m'\u001b[39;49m)\n\u001b[1;32m      4\u001b[0m \u001b[39m# print(artist.songs)\u001b[39;00m\n",
      "File \u001b[0;32m~/.local/share/virtualenvs/bad_bunny-AhDwGg1d/lib/python3.8/site-packages/lyricsgenius/genius.py:568\u001b[0m, in \u001b[0;36mGenius.search_artist\u001b[0;34m(self, artist_name, max_songs, sort, per_page, get_full_info, allow_name_change, artist_id, include_features)\u001b[0m\n\u001b[1;32m    566\u001b[0m     lyrics \u001b[39m=\u001b[39m \u001b[39m\"\u001b[39m\u001b[39m\"\u001b[39m\n\u001b[1;32m    567\u001b[0m \u001b[39mif\u001b[39;00m get_full_info:\n\u001b[0;32m--> 568\u001b[0m     new_info \u001b[39m=\u001b[39m \u001b[39mself\u001b[39;49m\u001b[39m.\u001b[39;49msong(song_info[\u001b[39m'\u001b[39;49m\u001b[39mid\u001b[39;49m\u001b[39m'\u001b[39;49m])[\u001b[39m'\u001b[39m\u001b[39msong\u001b[39m\u001b[39m'\u001b[39m]\n\u001b[1;32m    569\u001b[0m     song_info\u001b[39m.\u001b[39mupdate(new_info)\n\u001b[1;32m    570\u001b[0m song \u001b[39m=\u001b[39m Song(\u001b[39mself\u001b[39m, song_info, lyrics)\n",
      "File \u001b[0;32m~/.local/share/virtualenvs/bad_bunny-AhDwGg1d/lib/python3.8/site-packages/lyricsgenius/api/api.py:437\u001b[0m, in \u001b[0;36mAPI.song\u001b[0;34m(self, song_id, text_format)\u001b[0m\n\u001b[1;32m    435\u001b[0m endpoint \u001b[39m=\u001b[39m \u001b[39m\"\u001b[39m\u001b[39msongs/\u001b[39m\u001b[39m{id}\u001b[39;00m\u001b[39m\"\u001b[39m\u001b[39m.\u001b[39mformat(\u001b[39mid\u001b[39m\u001b[39m=\u001b[39msong_id)\n\u001b[1;32m    436\u001b[0m params \u001b[39m=\u001b[39m {\u001b[39m'\u001b[39m\u001b[39mtext_format\u001b[39m\u001b[39m'\u001b[39m: text_format \u001b[39mor\u001b[39;00m \u001b[39mself\u001b[39m\u001b[39m.\u001b[39mresponse_format}\n\u001b[0;32m--> 437\u001b[0m \u001b[39mreturn\u001b[39;00m \u001b[39mself\u001b[39;49m\u001b[39m.\u001b[39;49m_make_request(endpoint, params_\u001b[39m=\u001b[39;49mparams)\n",
      "File \u001b[0;32m~/.local/share/virtualenvs/bad_bunny-AhDwGg1d/lib/python3.8/site-packages/lyricsgenius/api/base.py:75\u001b[0m, in \u001b[0;36mSender._make_request\u001b[0;34m(self, path, method, params_, public_api, web, **kwargs)\u001b[0m\n\u001b[1;32m     73\u001b[0m tries \u001b[39m+\u001b[39m\u001b[39m=\u001b[39m \u001b[39m1\u001b[39m\n\u001b[1;32m     74\u001b[0m \u001b[39mtry\u001b[39;00m:\n\u001b[0;32m---> 75\u001b[0m     response \u001b[39m=\u001b[39m \u001b[39mself\u001b[39;49m\u001b[39m.\u001b[39;49m_session\u001b[39m.\u001b[39;49mrequest(method, uri,\n\u001b[1;32m     76\u001b[0m                                      timeout\u001b[39m=\u001b[39;49m\u001b[39mself\u001b[39;49m\u001b[39m.\u001b[39;49mtimeout,\n\u001b[1;32m     77\u001b[0m                                      params\u001b[39m=\u001b[39;49mparams_,\n\u001b[1;32m     78\u001b[0m                                      headers\u001b[39m=\u001b[39;49mheader,\n\u001b[1;32m     79\u001b[0m                                      \u001b[39m*\u001b[39;49m\u001b[39m*\u001b[39;49mkwargs)\n\u001b[1;32m     80\u001b[0m     response\u001b[39m.\u001b[39mraise_for_status()\n\u001b[1;32m     81\u001b[0m \u001b[39mexcept\u001b[39;00m Timeout \u001b[39mas\u001b[39;00m e:\n",
      "File \u001b[0;32m~/.local/share/virtualenvs/bad_bunny-AhDwGg1d/lib/python3.8/site-packages/requests/sessions.py:587\u001b[0m, in \u001b[0;36mSession.request\u001b[0;34m(self, method, url, params, data, headers, cookies, files, auth, timeout, allow_redirects, proxies, hooks, stream, verify, cert, json)\u001b[0m\n\u001b[1;32m    582\u001b[0m send_kwargs \u001b[39m=\u001b[39m {\n\u001b[1;32m    583\u001b[0m     \u001b[39m\"\u001b[39m\u001b[39mtimeout\u001b[39m\u001b[39m\"\u001b[39m: timeout,\n\u001b[1;32m    584\u001b[0m     \u001b[39m\"\u001b[39m\u001b[39mallow_redirects\u001b[39m\u001b[39m\"\u001b[39m: allow_redirects,\n\u001b[1;32m    585\u001b[0m }\n\u001b[1;32m    586\u001b[0m send_kwargs\u001b[39m.\u001b[39mupdate(settings)\n\u001b[0;32m--> 587\u001b[0m resp \u001b[39m=\u001b[39m \u001b[39mself\u001b[39;49m\u001b[39m.\u001b[39;49msend(prep, \u001b[39m*\u001b[39;49m\u001b[39m*\u001b[39;49msend_kwargs)\n\u001b[1;32m    589\u001b[0m \u001b[39mreturn\u001b[39;00m resp\n",
      "File \u001b[0;32m~/.local/share/virtualenvs/bad_bunny-AhDwGg1d/lib/python3.8/site-packages/requests/sessions.py:701\u001b[0m, in \u001b[0;36mSession.send\u001b[0;34m(self, request, **kwargs)\u001b[0m\n\u001b[1;32m    698\u001b[0m start \u001b[39m=\u001b[39m preferred_clock()\n\u001b[1;32m    700\u001b[0m \u001b[39m# Send the request\u001b[39;00m\n\u001b[0;32m--> 701\u001b[0m r \u001b[39m=\u001b[39m adapter\u001b[39m.\u001b[39;49msend(request, \u001b[39m*\u001b[39;49m\u001b[39m*\u001b[39;49mkwargs)\n\u001b[1;32m    703\u001b[0m \u001b[39m# Total elapsed time of the request (approximately)\u001b[39;00m\n\u001b[1;32m    704\u001b[0m elapsed \u001b[39m=\u001b[39m preferred_clock() \u001b[39m-\u001b[39m start\n",
      "File \u001b[0;32m~/.local/share/virtualenvs/bad_bunny-AhDwGg1d/lib/python3.8/site-packages/requests/adapters.py:489\u001b[0m, in \u001b[0;36mHTTPAdapter.send\u001b[0;34m(self, request, stream, timeout, verify, cert, proxies)\u001b[0m\n\u001b[1;32m    487\u001b[0m \u001b[39mtry\u001b[39;00m:\n\u001b[1;32m    488\u001b[0m     \u001b[39mif\u001b[39;00m \u001b[39mnot\u001b[39;00m chunked:\n\u001b[0;32m--> 489\u001b[0m         resp \u001b[39m=\u001b[39m conn\u001b[39m.\u001b[39;49murlopen(\n\u001b[1;32m    490\u001b[0m             method\u001b[39m=\u001b[39;49mrequest\u001b[39m.\u001b[39;49mmethod,\n\u001b[1;32m    491\u001b[0m             url\u001b[39m=\u001b[39;49murl,\n\u001b[1;32m    492\u001b[0m             body\u001b[39m=\u001b[39;49mrequest\u001b[39m.\u001b[39;49mbody,\n\u001b[1;32m    493\u001b[0m             headers\u001b[39m=\u001b[39;49mrequest\u001b[39m.\u001b[39;49mheaders,\n\u001b[1;32m    494\u001b[0m             redirect\u001b[39m=\u001b[39;49m\u001b[39mFalse\u001b[39;49;00m,\n\u001b[1;32m    495\u001b[0m             assert_same_host\u001b[39m=\u001b[39;49m\u001b[39mFalse\u001b[39;49;00m,\n\u001b[1;32m    496\u001b[0m             preload_content\u001b[39m=\u001b[39;49m\u001b[39mFalse\u001b[39;49;00m,\n\u001b[1;32m    497\u001b[0m             decode_content\u001b[39m=\u001b[39;49m\u001b[39mFalse\u001b[39;49;00m,\n\u001b[1;32m    498\u001b[0m             retries\u001b[39m=\u001b[39;49m\u001b[39mself\u001b[39;49m\u001b[39m.\u001b[39;49mmax_retries,\n\u001b[1;32m    499\u001b[0m             timeout\u001b[39m=\u001b[39;49mtimeout,\n\u001b[1;32m    500\u001b[0m         )\n\u001b[1;32m    502\u001b[0m     \u001b[39m# Send the request.\u001b[39;00m\n\u001b[1;32m    503\u001b[0m     \u001b[39melse\u001b[39;00m:\n\u001b[1;32m    504\u001b[0m         \u001b[39mif\u001b[39;00m \u001b[39mhasattr\u001b[39m(conn, \u001b[39m\"\u001b[39m\u001b[39mproxy_pool\u001b[39m\u001b[39m\"\u001b[39m):\n",
      "File \u001b[0;32m~/.local/share/virtualenvs/bad_bunny-AhDwGg1d/lib/python3.8/site-packages/urllib3/connectionpool.py:703\u001b[0m, in \u001b[0;36mHTTPConnectionPool.urlopen\u001b[0;34m(self, method, url, body, headers, retries, redirect, assert_same_host, timeout, pool_timeout, release_conn, chunked, body_pos, **response_kw)\u001b[0m\n\u001b[1;32m    700\u001b[0m     \u001b[39mself\u001b[39m\u001b[39m.\u001b[39m_prepare_proxy(conn)\n\u001b[1;32m    702\u001b[0m \u001b[39m# Make the request on the httplib connection object.\u001b[39;00m\n\u001b[0;32m--> 703\u001b[0m httplib_response \u001b[39m=\u001b[39m \u001b[39mself\u001b[39;49m\u001b[39m.\u001b[39;49m_make_request(\n\u001b[1;32m    704\u001b[0m     conn,\n\u001b[1;32m    705\u001b[0m     method,\n\u001b[1;32m    706\u001b[0m     url,\n\u001b[1;32m    707\u001b[0m     timeout\u001b[39m=\u001b[39;49mtimeout_obj,\n\u001b[1;32m    708\u001b[0m     body\u001b[39m=\u001b[39;49mbody,\n\u001b[1;32m    709\u001b[0m     headers\u001b[39m=\u001b[39;49mheaders,\n\u001b[1;32m    710\u001b[0m     chunked\u001b[39m=\u001b[39;49mchunked,\n\u001b[1;32m    711\u001b[0m )\n\u001b[1;32m    713\u001b[0m \u001b[39m# If we're going to release the connection in ``finally:``, then\u001b[39;00m\n\u001b[1;32m    714\u001b[0m \u001b[39m# the response doesn't need to know about the connection. Otherwise\u001b[39;00m\n\u001b[1;32m    715\u001b[0m \u001b[39m# it will also try to release it and we'll have a double-release\u001b[39;00m\n\u001b[1;32m    716\u001b[0m \u001b[39m# mess.\u001b[39;00m\n\u001b[1;32m    717\u001b[0m response_conn \u001b[39m=\u001b[39m conn \u001b[39mif\u001b[39;00m \u001b[39mnot\u001b[39;00m release_conn \u001b[39melse\u001b[39;00m \u001b[39mNone\u001b[39;00m\n",
      "File \u001b[0;32m~/.local/share/virtualenvs/bad_bunny-AhDwGg1d/lib/python3.8/site-packages/urllib3/connectionpool.py:449\u001b[0m, in \u001b[0;36mHTTPConnectionPool._make_request\u001b[0;34m(self, conn, method, url, timeout, chunked, **httplib_request_kw)\u001b[0m\n\u001b[1;32m    444\u001b[0m             httplib_response \u001b[39m=\u001b[39m conn\u001b[39m.\u001b[39mgetresponse()\n\u001b[1;32m    445\u001b[0m         \u001b[39mexcept\u001b[39;00m \u001b[39mBaseException\u001b[39;00m \u001b[39mas\u001b[39;00m e:\n\u001b[1;32m    446\u001b[0m             \u001b[39m# Remove the TypeError from the exception chain in\u001b[39;00m\n\u001b[1;32m    447\u001b[0m             \u001b[39m# Python 3 (including for exceptions like SystemExit).\u001b[39;00m\n\u001b[1;32m    448\u001b[0m             \u001b[39m# Otherwise it looks like a bug in the code.\u001b[39;00m\n\u001b[0;32m--> 449\u001b[0m             six\u001b[39m.\u001b[39;49mraise_from(e, \u001b[39mNone\u001b[39;49;00m)\n\u001b[1;32m    450\u001b[0m \u001b[39mexcept\u001b[39;00m (SocketTimeout, BaseSSLError, SocketError) \u001b[39mas\u001b[39;00m e:\n\u001b[1;32m    451\u001b[0m     \u001b[39mself\u001b[39m\u001b[39m.\u001b[39m_raise_timeout(err\u001b[39m=\u001b[39me, url\u001b[39m=\u001b[39murl, timeout_value\u001b[39m=\u001b[39mread_timeout)\n",
      "File \u001b[0;32m<string>:3\u001b[0m, in \u001b[0;36mraise_from\u001b[0;34m(value, from_value)\u001b[0m\n",
      "File \u001b[0;32m~/.local/share/virtualenvs/bad_bunny-AhDwGg1d/lib/python3.8/site-packages/urllib3/connectionpool.py:444\u001b[0m, in \u001b[0;36mHTTPConnectionPool._make_request\u001b[0;34m(self, conn, method, url, timeout, chunked, **httplib_request_kw)\u001b[0m\n\u001b[1;32m    441\u001b[0m \u001b[39mexcept\u001b[39;00m \u001b[39mTypeError\u001b[39;00m:\n\u001b[1;32m    442\u001b[0m     \u001b[39m# Python 3\u001b[39;00m\n\u001b[1;32m    443\u001b[0m     \u001b[39mtry\u001b[39;00m:\n\u001b[0;32m--> 444\u001b[0m         httplib_response \u001b[39m=\u001b[39m conn\u001b[39m.\u001b[39;49mgetresponse()\n\u001b[1;32m    445\u001b[0m     \u001b[39mexcept\u001b[39;00m \u001b[39mBaseException\u001b[39;00m \u001b[39mas\u001b[39;00m e:\n\u001b[1;32m    446\u001b[0m         \u001b[39m# Remove the TypeError from the exception chain in\u001b[39;00m\n\u001b[1;32m    447\u001b[0m         \u001b[39m# Python 3 (including for exceptions like SystemExit).\u001b[39;00m\n\u001b[1;32m    448\u001b[0m         \u001b[39m# Otherwise it looks like a bug in the code.\u001b[39;00m\n\u001b[1;32m    449\u001b[0m         six\u001b[39m.\u001b[39mraise_from(e, \u001b[39mNone\u001b[39;00m)\n",
      "File \u001b[0;32m/usr/lib/python3.8/http/client.py:1348\u001b[0m, in \u001b[0;36mHTTPConnection.getresponse\u001b[0;34m(self)\u001b[0m\n\u001b[1;32m   1346\u001b[0m \u001b[39mtry\u001b[39;00m:\n\u001b[1;32m   1347\u001b[0m     \u001b[39mtry\u001b[39;00m:\n\u001b[0;32m-> 1348\u001b[0m         response\u001b[39m.\u001b[39;49mbegin()\n\u001b[1;32m   1349\u001b[0m     \u001b[39mexcept\u001b[39;00m \u001b[39mConnectionError\u001b[39;00m:\n\u001b[1;32m   1350\u001b[0m         \u001b[39mself\u001b[39m\u001b[39m.\u001b[39mclose()\n",
      "File \u001b[0;32m/usr/lib/python3.8/http/client.py:316\u001b[0m, in \u001b[0;36mHTTPResponse.begin\u001b[0;34m(self)\u001b[0m\n\u001b[1;32m    314\u001b[0m \u001b[39m# read until we get a non-100 response\u001b[39;00m\n\u001b[1;32m    315\u001b[0m \u001b[39mwhile\u001b[39;00m \u001b[39mTrue\u001b[39;00m:\n\u001b[0;32m--> 316\u001b[0m     version, status, reason \u001b[39m=\u001b[39m \u001b[39mself\u001b[39;49m\u001b[39m.\u001b[39;49m_read_status()\n\u001b[1;32m    317\u001b[0m     \u001b[39mif\u001b[39;00m status \u001b[39m!=\u001b[39m CONTINUE:\n\u001b[1;32m    318\u001b[0m         \u001b[39mbreak\u001b[39;00m\n",
      "File \u001b[0;32m/usr/lib/python3.8/http/client.py:277\u001b[0m, in \u001b[0;36mHTTPResponse._read_status\u001b[0;34m(self)\u001b[0m\n\u001b[1;32m    276\u001b[0m \u001b[39mdef\u001b[39;00m \u001b[39m_read_status\u001b[39m(\u001b[39mself\u001b[39m):\n\u001b[0;32m--> 277\u001b[0m     line \u001b[39m=\u001b[39m \u001b[39mstr\u001b[39m(\u001b[39mself\u001b[39;49m\u001b[39m.\u001b[39;49mfp\u001b[39m.\u001b[39;49mreadline(_MAXLINE \u001b[39m+\u001b[39;49m \u001b[39m1\u001b[39;49m), \u001b[39m\"\u001b[39m\u001b[39miso-8859-1\u001b[39m\u001b[39m\"\u001b[39m)\n\u001b[1;32m    278\u001b[0m     \u001b[39mif\u001b[39;00m \u001b[39mlen\u001b[39m(line) \u001b[39m>\u001b[39m _MAXLINE:\n\u001b[1;32m    279\u001b[0m         \u001b[39mraise\u001b[39;00m LineTooLong(\u001b[39m\"\u001b[39m\u001b[39mstatus line\u001b[39m\u001b[39m\"\u001b[39m)\n",
      "File \u001b[0;32m/usr/lib/python3.8/socket.py:669\u001b[0m, in \u001b[0;36mSocketIO.readinto\u001b[0;34m(self, b)\u001b[0m\n\u001b[1;32m    667\u001b[0m \u001b[39mwhile\u001b[39;00m \u001b[39mTrue\u001b[39;00m:\n\u001b[1;32m    668\u001b[0m     \u001b[39mtry\u001b[39;00m:\n\u001b[0;32m--> 669\u001b[0m         \u001b[39mreturn\u001b[39;00m \u001b[39mself\u001b[39;49m\u001b[39m.\u001b[39;49m_sock\u001b[39m.\u001b[39;49mrecv_into(b)\n\u001b[1;32m    670\u001b[0m     \u001b[39mexcept\u001b[39;00m timeout:\n\u001b[1;32m    671\u001b[0m         \u001b[39mself\u001b[39m\u001b[39m.\u001b[39m_timeout_occurred \u001b[39m=\u001b[39m \u001b[39mTrue\u001b[39;00m\n",
      "File \u001b[0;32m/usr/lib/python3.8/ssl.py:1241\u001b[0m, in \u001b[0;36mSSLSocket.recv_into\u001b[0;34m(self, buffer, nbytes, flags)\u001b[0m\n\u001b[1;32m   1237\u001b[0m     \u001b[39mif\u001b[39;00m flags \u001b[39m!=\u001b[39m \u001b[39m0\u001b[39m:\n\u001b[1;32m   1238\u001b[0m         \u001b[39mraise\u001b[39;00m \u001b[39mValueError\u001b[39;00m(\n\u001b[1;32m   1239\u001b[0m           \u001b[39m\"\u001b[39m\u001b[39mnon-zero flags not allowed in calls to recv_into() on \u001b[39m\u001b[39m%s\u001b[39;00m\u001b[39m\"\u001b[39m \u001b[39m%\u001b[39m\n\u001b[1;32m   1240\u001b[0m           \u001b[39mself\u001b[39m\u001b[39m.\u001b[39m\u001b[39m__class__\u001b[39m)\n\u001b[0;32m-> 1241\u001b[0m     \u001b[39mreturn\u001b[39;00m \u001b[39mself\u001b[39;49m\u001b[39m.\u001b[39;49mread(nbytes, buffer)\n\u001b[1;32m   1242\u001b[0m \u001b[39melse\u001b[39;00m:\n\u001b[1;32m   1243\u001b[0m     \u001b[39mreturn\u001b[39;00m \u001b[39msuper\u001b[39m()\u001b[39m.\u001b[39mrecv_into(buffer, nbytes, flags)\n",
      "File \u001b[0;32m/usr/lib/python3.8/ssl.py:1099\u001b[0m, in \u001b[0;36mSSLSocket.read\u001b[0;34m(self, len, buffer)\u001b[0m\n\u001b[1;32m   1097\u001b[0m \u001b[39mtry\u001b[39;00m:\n\u001b[1;32m   1098\u001b[0m     \u001b[39mif\u001b[39;00m buffer \u001b[39mis\u001b[39;00m \u001b[39mnot\u001b[39;00m \u001b[39mNone\u001b[39;00m:\n\u001b[0;32m-> 1099\u001b[0m         \u001b[39mreturn\u001b[39;00m \u001b[39mself\u001b[39;49m\u001b[39m.\u001b[39;49m_sslobj\u001b[39m.\u001b[39;49mread(\u001b[39mlen\u001b[39;49m, buffer)\n\u001b[1;32m   1100\u001b[0m     \u001b[39melse\u001b[39;00m:\n\u001b[1;32m   1101\u001b[0m         \u001b[39mreturn\u001b[39;00m \u001b[39mself\u001b[39m\u001b[39m.\u001b[39m_sslobj\u001b[39m.\u001b[39mread(\u001b[39mlen\u001b[39m)\n",
      "\u001b[0;31mKeyboardInterrupt\u001b[0m: "
     ]
    }
   ],
   "source": [
    "genius = Genius(token)\n",
    "genius.response_format = 'plain,html'\n",
    "artist = genius.search_artist('Bad Bunny', sort='title')\n",
    "# print(artist.songs)"
   ]
  },
  {
   "cell_type": "code",
   "execution_count": 26,
   "metadata": {},
   "outputs": [
    {
     "name": "stdout",
     "output_type": "stream",
     "text": [
      "Searching for \"Moscow Mule\" by Bad Bunny...\n",
      "Done.\n",
      "Moscow Mule Lyrics[Letra de \"Moscow Mule\"]\n",
      "\n",
      "[Intro]\n",
      "Si yo no te escribo, tú no me escribe', ey\n",
      "Si tú quieres, te busco, yo sé dónde tú vive'\n",
      "Quizá hoy está aborrecía'\n",
      "Pero por dentro tú tiene' alegría\n",
      "\n",
      "[Coro]\n",
      "Si quieres te la saco\n",
      "Dos trago' y sabes que me pongo bellaco\n",
      "No somo' na', pero estamo' envuelto' hace rato, oh-oh\n",
      "WhatsApp sin el retrato, no guarda mi contacto (¡Ey, ey, ey, ey!)\n",
      "Pero se la saco\n",
      "Dos trago' y sabes que me pongo bellaco\n",
      "No somo' na', pero estamo' envuelto' hace rato, oh-oh\n",
      "WhatsApp sin el retrato, no guarda mi contacto-to\n",
      "[Verso 1]\n",
      "Todo e' underwater (Ey)\n",
      "Baby, vamo' pa'l cuarto quarter\n",
      "En la Uru' comiéndono' el pare\n",
      "Te vo'a dar duro pa' que no me compare', ey\n",
      "Cuida'o con ese mahón, que se va a romper (Ey)\n",
      "Ese booty lo va a romper (Ey)\n",
      "Yo no sé si yo te vuelvo a ver\n",
      "Si mañana me vo'a perder\n",
      "Tú ere' una player, me hiciste un crossover\n",
      "Esta ve' metiste, me diste game over, eh-eh (Huh)\n",
      "Porque no puedo olvidar\n",
      "El perreo aquel que se fue viral\n",
      "Dime si mañana te va' a quedar\n",
      "Después de la alarma te lo voy a dar, ey\n",
      "Hoy tú no va' a trabajar, jeje, no\n",
      "\n",
      "[Coro]\n",
      "Si quieres te la saco\n",
      "Dos trago' y sabes que me pongo bellaco\n",
      "No somo' na', pero estamo' envuelto' hace rato, oh-oh\n",
      "WhatsApp sin el retrato, no guarda mi contacto\n",
      "Pero se la saco\n",
      "Dos trago' y sabes que me pongo bellaco\n",
      "No somo' na', pero estamo' envuelto' hace rato, oh-oh\n",
      "WhatsApp sin el retrato, no guarda mi contacto\n",
      "See Bad Bunny LiveGet tickets as low as $60You might also like[Verso 2]\n",
      "Me gustan así, piquetúa\n",
      "Mami, qué rica te ve' esnúa'\n",
      "Quizás no sentiste lo que yo sentí\n",
      "Pero aún te debo una noche en la suite\n",
      "Pa' darte tabla; dale, mami, habla\n",
      "Tú ere' una diablona, no te haga'\n",
      "Pa' darte tabla; dale, mami, habla\n",
      "Tú ere' una diablona, no te haga'\n",
      "\n",
      "[Puente]\n",
      "No, no, no, no (No, no, no, no)\n",
      "No, no, no, no (No, no, no, no)\n",
      "No, no, no, no (No, no, no, no)\n",
      "Ey, yo no sé tú, pero yo quisiera amanecer esnú'\n",
      "En una playa por Bali, si no, Cancún\n",
      "Pide otro moscow mule (Ey)\n",
      "\n",
      "[Verso 3]\n",
      "Que ando en nota, nota\n",
      "Ven y choca\n",
      "Conmigo que se joda\n",
      "Baby, tú 'tás grandota\n",
      "Pero hoy ando en nota, nota\n",
      "Ven y choca\n",
      "Conmigo que se joda, eh\n",
      "Que se joda, ey\n",
      "[Outro]\n",
      "Mami, tú quiere' perreo (Tú quiere' perreo)\n",
      "Tú quiere' perreo (Tú quiere' perreo)\n",
      "Tú quiere' bellaqueo (Tú quiere' bellaqueo)\n",
      "Tú quiere' bellaqueo (Tú quiere' bellaqueo)\n",
      "Mami, tú quiere' perreo (Tú quiere' perreo)\n",
      "Tú quiere' perreo (Tú quiere' perreo)\n",
      "Tú quiere' bellaqueo (Tú quiere' bellaqueo)\n",
      "Tú quiere' bellaqueo (Tú quiere' bellaqueo)4Embed\n"
     ]
    }
   ],
   "source": [
    "song = genius.search_song(\"Moscow Mule\", artist.name)\n",
    "print(song.lyrics)"
   ]
  },
  {
   "cell_type": "code",
   "execution_count": 27,
   "metadata": {},
   "outputs": [
    {
     "name": "stdout",
     "output_type": "stream",
     "text": [
      "Wrote ..dataprocessedtest.json.\n"
     ]
    }
   ],
   "source": [
    "song.save_lyrics('Moscow_Mule')"
   ]
  }
 ],
 "metadata": {
  "kernelspec": {
   "display_name": "Python 3.8.10 ('bad_bunny-AhDwGg1d')",
   "language": "python",
   "name": "python3"
  },
  "language_info": {
   "codemirror_mode": {
    "name": "ipython",
    "version": 3
   },
   "file_extension": ".py",
   "mimetype": "text/x-python",
   "name": "python",
   "nbconvert_exporter": "python",
   "pygments_lexer": "ipython3",
   "version": "3.8.10"
  },
  "orig_nbformat": 4,
  "vscode": {
   "interpreter": {
    "hash": "229dfac74a8f893abab8d0be394ba198d422cb8f4402f523855873f63907cb34"
   }
  }
 },
 "nbformat": 4,
 "nbformat_minor": 2
}
