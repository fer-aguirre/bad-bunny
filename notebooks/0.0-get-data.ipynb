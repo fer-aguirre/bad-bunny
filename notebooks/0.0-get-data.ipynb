{
 "cells": [
  {
   "cell_type": "markdown",
   "metadata": {},
   "source": [
    "### Import libraries"
   ]
  },
  {
   "cell_type": "code",
   "execution_count": 51,
   "metadata": {},
   "outputs": [],
   "source": [
    "import spotipy\n",
    "from spotipy.oauth2 import SpotifyClientCredentials\n",
    "import configparser"
   ]
  },
  {
   "cell_type": "markdown",
   "metadata": {},
   "source": [
    "### Get data"
   ]
  },
  {
   "cell_type": "code",
   "execution_count": 52,
   "metadata": {},
   "outputs": [],
   "source": [
    "# Get Spotify API tokens\n",
    "parser = configparser.ConfigParser()\n",
    "parser.read(\"../config.ini\")\n",
    "parser.sections()\n",
    "client_id = parser.get('spotify_api', 'client_id')\n",
    "client_secret = parser.get('spotify_api', 'client_secret')"
   ]
  },
  {
   "cell_type": "code",
   "execution_count": 53,
   "metadata": {},
   "outputs": [],
   "source": [
    "# Authenticate\n",
    "client_credentials_manager = SpotifyClientCredentials(client_id=client_id, client_secret=client_secret)\n",
    "sp = spotipy.Spotify(client_credentials_manager = client_credentials_manager)"
   ]
  },
  {
   "cell_type": "code",
   "execution_count": 57,
   "metadata": {},
   "outputs": [],
   "source": [
    "# Bad Bunny artist link on Spotify\n",
    "badBunny_link = \"https://open.spotify.com/artist/4q3ewBCX7sLwd24euuV69X?si=6skBSPJYTRuVPYKvm618hQ\"\n",
    "# Get uniform resource indicator (URI) from URL\n",
    "badBunny_uri = badBunny_link.split(\"/\")[-1].split(\"?\")[0]"
   ]
  },
  {
   "cell_type": "code",
   "execution_count": 58,
   "metadata": {},
   "outputs": [],
   "source": [
    "# Extract albums data from Bad Bunny\n",
    "badBunny_albumsId = [x[\"id\"] for x in sp.artist_albums(badBunny_uri)[\"items\"]]\n",
    "badBunny_albumsNames = [x['name'] for x in sp.artist_albums(badBunny_uri)[\"items\"]]\n",
    "badBunny_albumsRelease = [x['release_date'] for x in sp.artist_albums(badBunny_uri)[\"items\"]]\n",
    "badBunny_albumsTracks = [x['total_tracks'] for x in sp.artist_albums(badBunny_uri)[\"items\"]]\n",
    "badBunny_albumsImages = [x[0]['url'] for x in [x['images']  for x in sp.artist_albums(badBunny_uri)[\"items\"]]]"
   ]
  },
  {
   "cell_type": "code",
   "execution_count": 89,
   "metadata": {},
   "outputs": [],
   "source": [
    "# Extract tracks ids and names from albums\n",
    "def get_tracksId(albumsId):\n",
    "    albums_tracksIds = []\n",
    "    albums_tracksNames  = []\n",
    "    for x in albumsId:\n",
    "        tracks_ids = [x[\"id\"] for x in sp.album_tracks(x)[\"items\"]]\n",
    "        tracks_names = [x[\"name\"] for x in sp.album_tracks(x)[\"items\"]]\n",
    "        albums_tracksIds.append(tracks_ids)\n",
    "        albums_tracksNames.append(tracks_names)\n",
    "    return albums_tracksIds, albums_tracksNames\n",
    "\n",
    "albums_tracksIds, albums_tracksNames = get_tracksId(badBunny_albumsId)"
   ]
  },
  {
   "cell_type": "markdown",
   "metadata": {},
   "source": [
    "### Extracting features from tracks"
   ]
  },
  {
   "cell_type": "code",
   "execution_count": 96,
   "metadata": {},
   "outputs": [
    {
     "name": "stdout",
     "output_type": "stream",
     "text": [
      "Moscow Mule\n"
     ]
    },
    {
     "data": {
      "text/plain": [
       "[{'danceability': 0.804,\n",
       "  'energy': 0.674,\n",
       "  'key': 5,\n",
       "  'loudness': -5.453,\n",
       "  'mode': 0,\n",
       "  'speechiness': 0.0333,\n",
       "  'acousticness': 0.294,\n",
       "  'instrumentalness': 1.18e-06,\n",
       "  'liveness': 0.115,\n",
       "  'valence': 0.292,\n",
       "  'tempo': 99.968,\n",
       "  'type': 'audio_features',\n",
       "  'id': '6Xom58OOXk2SoU711L2IXO',\n",
       "  'uri': 'spotify:track:6Xom58OOXk2SoU711L2IXO',\n",
       "  'track_href': 'https://api.spotify.com/v1/tracks/6Xom58OOXk2SoU711L2IXO',\n",
       "  'analysis_url': 'https://api.spotify.com/v1/audio-analysis/6Xom58OOXk2SoU711L2IXO',\n",
       "  'duration_ms': 245940,\n",
       "  'time_signature': 4}]"
      ]
     },
     "execution_count": 96,
     "metadata": {},
     "output_type": "execute_result"
    }
   ],
   "source": [
    "print(albums_tracksNames[0][0])\n",
    "sp.audio_features(albums_tracksIds[0][0])"
   ]
  },
  {
   "cell_type": "code",
   "execution_count": 97,
   "metadata": {},
   "outputs": [
    {
     "name": "stdout",
     "output_type": "stream",
     "text": [
      "El Apagón\n"
     ]
    },
    {
     "data": {
      "text/plain": [
       "[{'danceability': 0.629,\n",
       "  'energy': 0.698,\n",
       "  'key': 8,\n",
       "  'loudness': -4.485,\n",
       "  'mode': 1,\n",
       "  'speechiness': 0.308,\n",
       "  'acousticness': 0.0509,\n",
       "  'instrumentalness': 0.00166,\n",
       "  'liveness': 0.0909,\n",
       "  'valence': 0.599,\n",
       "  'tempo': 117.765,\n",
       "  'type': 'audio_features',\n",
       "  'id': '0UvZcEfpzVyx47QsRbjyBz',\n",
       "  'uri': 'spotify:track:0UvZcEfpzVyx47QsRbjyBz',\n",
       "  'track_href': 'https://api.spotify.com/v1/tracks/0UvZcEfpzVyx47QsRbjyBz',\n",
       "  'analysis_url': 'https://api.spotify.com/v1/audio-analysis/0UvZcEfpzVyx47QsRbjyBz',\n",
       "  'duration_ms': 201816,\n",
       "  'time_signature': 4}]"
      ]
     },
     "execution_count": 97,
     "metadata": {},
     "output_type": "execute_result"
    }
   ],
   "source": [
    "print(albums_tracksNames[0][15])\n",
    "sp.audio_features(albums_tracksIds[0][15])"
   ]
  },
  {
   "cell_type": "markdown",
   "metadata": {},
   "source": [
    "---\n",
    "### Documentation\n",
    "[Spotipy](https://spotipy.readthedocs.io/)"
   ]
  }
 ],
 "metadata": {
  "kernelspec": {
   "display_name": "Python 3.8.10 ('bad_bunny-AhDwGg1d')",
   "language": "python",
   "name": "python3"
  },
  "language_info": {
   "codemirror_mode": {
    "name": "ipython",
    "version": 3
   },
   "file_extension": ".py",
   "mimetype": "text/x-python",
   "name": "python",
   "nbconvert_exporter": "python",
   "pygments_lexer": "ipython3",
   "version": "3.8.10"
  },
  "orig_nbformat": 4,
  "vscode": {
   "interpreter": {
    "hash": "229dfac74a8f893abab8d0be394ba198d422cb8f4402f523855873f63907cb34"
   }
  }
 },
 "nbformat": 4,
 "nbformat_minor": 2
}
